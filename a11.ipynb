{
 "cells": [
  {
   "attachments": {},
   "cell_type": "markdown",
   "metadata": {},
   "source": [
    "Q1. Write a Python program to find words which are greater than given length k?\n"
   ]
  },
  {
   "cell_type": "code",
   "execution_count": 3,
   "metadata": {},
   "outputs": [
    {
     "name": "stdout",
     "output_type": "stream",
     "text": [
      "['hello', 'geeks', 'geeks', 'computer', 'science', 'portal']\n"
     ]
    }
   ],
   "source": [
    "str = \"hello geeks for geeks is computer science portal\" \n",
    "k = 3\n",
    "string =[]\n",
    "text = str.split(\" \")\n",
    "for i in text:\n",
    "    if(len(i)>k):\n",
    "        string.append(i)\n",
    "print(string)        "
   ]
  },
  {
   "attachments": {},
   "cell_type": "markdown",
   "metadata": {},
   "source": [
    "Q2. Write a Python program for removing i-th character from a string?\n"
   ]
  },
  {
   "cell_type": "code",
   "execution_count": 5,
   "metadata": {},
   "outputs": [
    {
     "name": "stdout",
     "output_type": "stream",
     "text": [
      "new str : adit\n"
     ]
    }
   ],
   "source": [
    "str = \"adity\"\n",
    "new=str.replace('y','')\n",
    "print('new str :',new)"
   ]
  },
  {
   "attachments": {},
   "cell_type": "markdown",
   "metadata": {},
   "source": [
    "Q3. Write a Python program to split and join a string?\n"
   ]
  },
  {
   "cell_type": "code",
   "execution_count": 6,
   "metadata": {},
   "outputs": [
    {
     "name": "stdout",
     "output_type": "stream",
     "text": [
      "Geeks-for-Geeks\n"
     ]
    }
   ],
   "source": [
    "s = 'Geeks for Geeks'\n",
    "print('-'.join(s.split()))"
   ]
  },
  {
   "attachments": {},
   "cell_type": "markdown",
   "metadata": {},
   "source": [
    "Q4. Write a Python to check if a given string is binary string or not?\n"
   ]
  },
  {
   "cell_type": "code",
   "execution_count": 12,
   "metadata": {},
   "outputs": [
    {
     "name": "stdout",
     "output_type": "stream",
     "text": [
      "False\n"
     ]
    }
   ],
   "source": [
    "s='0101011A'\n",
    "check = False\n",
    "for i in range(0,len(s)):\n",
    "    if(s[i]=='0' or s[i]== '1'):\n",
    "        check = True\n",
    "    else:\n",
    "        check=False\n",
    "        break    \n",
    "print(check)        \n",
    "    "
   ]
  },
  {
   "attachments": {},
   "cell_type": "markdown",
   "metadata": {},
   "source": [
    "Q5. Write a Python program to find uncommon words from two Strings?\n"
   ]
  },
  {
   "cell_type": "code",
   "execution_count": 14,
   "metadata": {},
   "outputs": [
    {
     "name": "stdout",
     "output_type": "stream",
     "text": [
      "['Aditi', 'Aditya']\n"
     ]
    }
   ],
   "source": [
    "def UncommonWords(A, B):\n",
    "    A=A.split()\n",
    "    B=B.split()\n",
    "    x=[]\n",
    "    for i in A:\n",
    "        if i not in B:\n",
    "            x.append(i)\n",
    "    for i in B:\n",
    "        if i not in A:\n",
    "            x.append(i)\n",
    "    x=list(set(x))\n",
    "    return x\n",
    "A = \"Aditya suhane\"\n",
    "B = \"Aditi suhane\"\n",
    "print(UncommonWords(A, B))"
   ]
  },
  {
   "attachments": {},
   "cell_type": "markdown",
   "metadata": {},
   "source": [
    "Q6. Write a Python to find all duplicate characters in string?\n"
   ]
  },
  {
   "cell_type": "code",
   "execution_count": 17,
   "metadata": {},
   "outputs": [
    {
     "name": "stdout",
     "output_type": "stream",
     "text": [
      "t , count =  3\n",
      "s , count =  2\n"
     ]
    }
   ],
   "source": [
    "from collections import defaultdict\n",
    "def printDups(st):\n",
    "\tcount = defaultdict(int)\n",
    "\tfor i in range(len(st)):\n",
    "\t\tcount[st[i]] += 1\n",
    "\tfor it in count:\n",
    "\t\tif (count[it] > 1):\n",
    "\t\t\tprint(it, \", count = \", count[it])\n",
    "if __name__ == \"__main__\":\n",
    "\tst = \"test string\"\n",
    "\tprintDups(st)\n",
    "\n"
   ]
  },
  {
   "attachments": {},
   "cell_type": "markdown",
   "metadata": {},
   "source": [
    "Q7. Write a Python Program to check if a string contains any special character?"
   ]
  },
  {
   "cell_type": "code",
   "execution_count": 19,
   "metadata": {},
   "outputs": [
    {
     "name": "stdout",
     "output_type": "stream",
     "text": [
      "number of special chars : 2\n"
     ]
    }
   ],
   "source": [
    "n=\"Geeks$For$Geeks\"\n",
    "n.split()\n",
    "c=0\n",
    "s='[@_!#$%^&*()<>?/\\|}{~:]' \n",
    "for i in range(len(n)):\n",
    "    if(n[i] in s):\n",
    "        c=c+1\n",
    "print(\"number of special chars :\",c)    "
   ]
  }
 ],
 "metadata": {
  "kernelspec": {
   "display_name": "Python 3",
   "language": "python",
   "name": "python3"
  },
  "language_info": {
   "codemirror_mode": {
    "name": "ipython",
    "version": 3
   },
   "file_extension": ".py",
   "mimetype": "text/x-python",
   "name": "python",
   "nbconvert_exporter": "python",
   "pygments_lexer": "ipython3",
   "version": "3.8.5 (default, Sep  3 2020, 21:29:08) [MSC v.1916 64 bit (AMD64)]"
  },
  "orig_nbformat": 4,
  "vscode": {
   "interpreter": {
    "hash": "8891f3cfb547db503e78f25128202364d60f1c09259e140a1bd236c27b0b7a43"
   }
  }
 },
 "nbformat": 4,
 "nbformat_minor": 2
}
