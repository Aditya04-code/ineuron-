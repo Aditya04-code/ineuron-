{
 "cells": [
  {
   "cell_type": "markdown",
   "metadata": {},
   "source": [
    "Write a Python Program to Find LCM?"
   ]
  },
  {
   "cell_type": "code",
   "execution_count": 1,
   "metadata": {},
   "outputs": [
    {
     "data": {
      "text/plain": [
       "216"
      ]
     },
     "execution_count": 1,
     "metadata": {},
     "output_type": "execute_result"
    }
   ],
   "source": [
    "def lcm(n1,n2):\n",
    "    if(n1>n2):\n",
    "        g=n1\n",
    "    else:\n",
    "        g=n2\n",
    "    while(True):\n",
    "        if((g%n1 ==0) and(g%n2==0)):\n",
    "            lcm =g\n",
    "            break \n",
    "        g+=1\n",
    "    return lcm\n",
    "n1=54\n",
    "n2=24\n",
    "lcm(n1,n2)              "
   ]
  },
  {
   "cell_type": "markdown",
   "metadata": {},
   "source": [
    "Write a Python Program to Find HCF?\n"
   ]
  },
  {
   "cell_type": "code",
   "execution_count": 2,
   "metadata": {},
   "outputs": [
    {
     "name": "stdout",
     "output_type": "stream",
     "text": [
      "The H.C.F. is 6\n"
     ]
    }
   ],
   "source": [
    "def compute_hcf(x, y):\n",
    "    if x > y:\n",
    "        smaller = y\n",
    "    else:\n",
    "        smaller = x\n",
    "    for i in range(1, smaller+1):\n",
    "        if((x % i == 0) and (y % i == 0)):\n",
    "            hcf = i \n",
    "    return hcf\n",
    "\n",
    "num1 = 54 \n",
    "num2 = 24\n",
    "\n",
    "print(\"The H.C.F. is\", compute_hcf(num1, num2))"
   ]
  },
  {
   "cell_type": "markdown",
   "metadata": {},
   "source": [
    "Write a Python Program to Convert Decimal to Binary, Octal and Hexadecimal?\n"
   ]
  },
  {
   "cell_type": "code",
   "execution_count": 15,
   "metadata": {},
   "outputs": [
    {
     "name": "stdout",
     "output_type": "stream",
     "text": [
      "1010  decimal to binary \n",
      "12  decimal to octal \n",
      "A  decimal to Hexa \n"
     ]
    }
   ],
   "source": [
    "def dectobinary(n):\n",
    "    binary = [0]*n\n",
    "    i=0\n",
    "    while(n>0):\n",
    "        binary[i]=n%2\n",
    "        n = int(n/2)\n",
    "        i+=1\n",
    "    for j in range(i-1,-1,-1):\n",
    "        print(binary[j],end=\"\")\n",
    "def dectooctal(n):\n",
    "    binary = [0]*100\n",
    "    i=0\n",
    "    while(n>0):\n",
    "        binary[i]=n%8\n",
    "        n = int(n/8)\n",
    "        i+=1\n",
    "    for j in range(i-1,-1,-1):\n",
    "        print(binary[j],end=\"\")\n",
    "def decToHexa(n):\n",
    "    hexaDeciNum = ['0'] * 100\n",
    "    i = 0\n",
    "    while(n != 0):\n",
    "        temp = 0\n",
    "        temp = n % 16\n",
    "        if(temp < 10):\n",
    "            hexaDeciNum[i] = chr(temp + 48)\n",
    "            i = i + 1\n",
    "        else:\n",
    "            hexaDeciNum[i] = chr(temp + 55)\n",
    "            i = i + 1\n",
    "        n = int(n / 16)\n",
    "    j = i - 1\n",
    "    while(j >= 0):\n",
    "        print((hexaDeciNum[j]), end=\"\")\n",
    "        j = j - 1\n",
    "dectobinary(10)\n",
    "print(\" \",\"decimal to binary \")\n",
    "dectooctal(10)\n",
    "print(\" \",\"decimal to octal \")\n",
    "decToHexa(10)\n",
    "print(\" \",\"decimal to Hexa \")\n"
   ]
  },
  {
   "cell_type": "markdown",
   "metadata": {},
   "source": [
    "Write a Python Program To Find ASCII value of a character?\n"
   ]
  },
  {
   "cell_type": "code",
   "execution_count": 18,
   "metadata": {},
   "outputs": [
    {
     "name": "stdout",
     "output_type": "stream",
     "text": [
      "ASCII value is :  48\n"
     ]
    }
   ],
   "source": [
    "x = str(input())\n",
    "print('ASCII value is : ',ord(x))"
   ]
  },
  {
   "cell_type": "markdown",
   "metadata": {},
   "source": [
    "Write a Python Program to Make a Simple Calculator with 4 basic mathematical operations?"
   ]
  },
  {
   "cell_type": "code",
   "execution_count": 19,
   "metadata": {},
   "outputs": [
    {
     "name": "stdout",
     "output_type": "stream",
     "text": [
      "Select operation.\n",
      "1.Add\n",
      "2.Subtract\n",
      "3.Multiply\n",
      "4.Divide\n",
      "5.0 + 5.0 = 10.0\n"
     ]
    }
   ],
   "source": [
    "def add(x, y):\n",
    "    return x + y\n",
    "def subtract(x, y):\n",
    "    return x - y\n",
    "def multiply(x, y):\n",
    "    return x * y\n",
    "def divide(x, y):\n",
    "    return x / y\n",
    "print(\"Select operation.\")\n",
    "print(\"1.Add\")\n",
    "print(\"2.Subtract\")\n",
    "print(\"3.Multiply\")\n",
    "print(\"4.Divide\")\n",
    "while True:\n",
    "    choice = input(\"Enter choice(1/2/3/4): \")\n",
    "    if choice in ('1', '2', '3', '4'):\n",
    "        num1 = float(input(\"Enter first number: \"))\n",
    "        num2 = float(input(\"Enter second number: \"))\n",
    "        if choice == '1':\n",
    "            print(num1, \"+\", num2, \"=\", add(num1, num2))\n",
    "        elif choice == '2':\n",
    "            print(num1, \"-\", num2, \"=\", subtract(num1, num2))\n",
    "\n",
    "        elif choice == '3':\n",
    "            print(num1, \"*\", num2, \"=\", multiply(num1, num2))\n",
    "\n",
    "        elif choice == '4':\n",
    "            print(num1, \"/\", num2, \"=\", divide(num1, num2))\n",
    "        next_calculation = input(\"Let's do next calculation? (yes/no): \")\n",
    "        if next_calculation == \"no\":\n",
    "          break\n",
    "    else:\n",
    "        print(\"Invalid Input\")\n"
   ]
  }
 ],
 "metadata": {
  "kernelspec": {
   "display_name": "Python 3.8.5",
   "language": "python",
   "name": "python3"
  },
  "language_info": {
   "codemirror_mode": {
    "name": "ipython",
    "version": 3
   },
   "file_extension": ".py",
   "mimetype": "text/x-python",
   "name": "python",
   "nbconvert_exporter": "python",
   "pygments_lexer": "ipython3",
   "version": "3.8.5"
  },
  "orig_nbformat": 4,
  "vscode": {
   "interpreter": {
    "hash": "8891f3cfb547db503e78f25128202364d60f1c09259e140a1bd236c27b0b7a43"
   }
  }
 },
 "nbformat": 4,
 "nbformat_minor": 2
}
