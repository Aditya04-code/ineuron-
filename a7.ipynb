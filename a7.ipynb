{
 "cells": [
  {
   "cell_type": "markdown",
   "metadata": {},
   "source": [
    "Write a Python Program to find sum of array?\n"
   ]
  },
  {
   "cell_type": "code",
   "execution_count": 7,
   "metadata": {},
   "outputs": [
    {
     "name": "stdout",
     "output_type": "stream",
     "text": [
      "121\n"
     ]
    }
   ],
   "source": [
    "def sumy(a):\n",
    "    sum =0\n",
    "    for i in a:\n",
    "        sum = sum + i\n",
    "    return sum\n",
    "a=[1,31,5,67,8,9]\n",
    "print(sumy(a))        "
   ]
  },
  {
   "cell_type": "markdown",
   "metadata": {},
   "source": [
    "Write a Python Program to find largest element in an array?\n"
   ]
  },
  {
   "cell_type": "code",
   "execution_count": 8,
   "metadata": {},
   "outputs": [
    {
     "name": "stdout",
     "output_type": "stream",
     "text": [
      "67\n"
     ]
    }
   ],
   "source": [
    "def largest(n):\n",
    "    ans = 0\n",
    "    for i in n:\n",
    "        ans =max(ans,i)\n",
    "    return ans \n",
    "a=[1,31,5,67,8,9]\n",
    "print(largest(a))       "
   ]
  },
  {
   "cell_type": "markdown",
   "metadata": {},
   "source": [
    "Write a Python Program for array rotation?\n"
   ]
  },
  {
   "cell_type": "code",
   "execution_count": 9,
   "metadata": {},
   "outputs": [
    {
     "name": "stdout",
     "output_type": "stream",
     "text": [
      "[5, 67, 8, 9, 1, 31]\n"
     ]
    }
   ],
   "source": [
    "def rottation(a,n,d):\n",
    "    i =0\n",
    "    temp=[]\n",
    "    while(i<d):\n",
    "        temp.append(a[i])\n",
    "        i=i+1\n",
    "    i=0\n",
    "    while(d<n):\n",
    "        a[i]=a[d]\n",
    "        i=i+1\n",
    "        d=d+1\n",
    "    a[:]=a[:i]+temp\n",
    "    return a   \n",
    "a=[1,31,5,67,8,9]  \n",
    "print(rottation(a,len(a),2))       "
   ]
  },
  {
   "cell_type": "markdown",
   "metadata": {},
   "source": [
    "Write a Python Program to Split the array and add the first part to the end?\n"
   ]
  },
  {
   "cell_type": "code",
   "execution_count": 22,
   "metadata": {},
   "outputs": [
    {
     "name": "stdout",
     "output_type": "stream",
     "text": [
      "[31, 5, 67, 8, 9, 1]\n"
     ]
    }
   ],
   "source": [
    "a=[1,31,5,67,8,9] \n",
    "n = len(a)\n",
    "\n",
    "def splitArr(arr, n):\n",
    "    for i in range(0, 1):\n",
    "        x = arr[0]\n",
    "        for j in range(0, n-1):\n",
    "            arr[j] = arr[j + 1]\n",
    "         \n",
    "        arr[n-1] = x\n",
    "# a[n]=a[0]\n",
    "splitArr(a,len(a))\n",
    "print(a)"
   ]
  },
  {
   "cell_type": "markdown",
   "metadata": {},
   "source": [
    "Write a Python Program to check if given array is Monotonic?"
   ]
  },
  {
   "cell_type": "code",
   "execution_count": 26,
   "metadata": {},
   "outputs": [
    {
     "name": "stdout",
     "output_type": "stream",
     "text": [
      "it's monotonic increasing\n"
     ]
    }
   ],
   "source": [
    "def montond(a):\n",
    "    checky =False\n",
    "    for i in range(0,len(a)-1):\n",
    "        if(a[i]>a[i+1]):\n",
    "            checky =True\n",
    "    return checky\n",
    "def montoni(a):\n",
    "    checky =False\n",
    "    for i in range(0,len(a)-1):\n",
    "        if(a[i]<a[i+1]):\n",
    "            checky =True\n",
    "    return checky\n",
    "a=[1,2,3,4,5,6]\n",
    "if((montond(a)==True)):\n",
    "    print(\"it's monotonic decreasing\")\n",
    "elif((montoni(a)==True)):\n",
    "    print(\"it's monotonic increasing\")"
   ]
  }
 ],
 "metadata": {
  "kernelspec": {
   "display_name": "Python 3.8.5",
   "language": "python",
   "name": "python3"
  },
  "language_info": {
   "codemirror_mode": {
    "name": "ipython",
    "version": 3
   },
   "file_extension": ".py",
   "mimetype": "text/x-python",
   "name": "python",
   "nbconvert_exporter": "python",
   "pygments_lexer": "ipython3",
   "version": "3.8.5"
  },
  "orig_nbformat": 4,
  "vscode": {
   "interpreter": {
    "hash": "8891f3cfb547db503e78f25128202364d60f1c09259e140a1bd236c27b0b7a43"
   }
  }
 },
 "nbformat": 4,
 "nbformat_minor": 2
}
