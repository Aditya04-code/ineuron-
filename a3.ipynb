{
 "cells": [
  {
   "cell_type": "markdown",
   "metadata": {},
   "source": [
    "Write a Python Program to Check if a Number is Positive, Negative or Zero?\n"
   ]
  },
  {
   "cell_type": "code",
   "execution_count": 2,
   "metadata": {},
   "outputs": [
    {
     "name": "stdout",
     "output_type": "stream",
     "text": [
      "it's -ve\n"
     ]
    }
   ],
   "source": [
    "x=float(input(\"enter the number\"))\n",
    "def rule(x):\n",
    "    if(x<0):\n",
    "        print(\"it's -ve\")\n",
    "    elif(x>0):\n",
    "        print(\"it's +ve\")\n",
    "    else:\n",
    "        print(\"it's zero\")    \n",
    "rule(x)            "
   ]
  },
  {
   "cell_type": "markdown",
   "metadata": {},
   "source": [
    "Write a Python Program to Check if a Number is Odd or Even?\n",
    " "
   ]
  },
  {
   "cell_type": "code",
   "execution_count": 4,
   "metadata": {},
   "outputs": [
    {
     "name": "stdout",
     "output_type": "stream",
     "text": [
      "it's odd\n"
     ]
    }
   ],
   "source": [
    "x=float(input(\"enter the number\"))\n",
    "def rule(x):\n",
    "    if(x%2==0):\n",
    "        print(\"it's even\")\n",
    "    else:\n",
    "        print(\"it's odd\")   \n",
    "rule(x)         "
   ]
  },
  {
   "cell_type": "markdown",
   "metadata": {},
   "source": [
    "Write a Python Program to Check Leap Year?\n"
   ]
  },
  {
   "cell_type": "code",
   "execution_count": 5,
   "metadata": {},
   "outputs": [
    {
     "name": "stdout",
     "output_type": "stream",
     "text": [
      "2000 is a leap year\n"
     ]
    }
   ],
   "source": [
    "y=2000\n",
    "if ((y%400==0) and (y%100==0)):\n",
    "    print(\"{} is a leap year\".format(y))\n",
    "elif ((y%4==0) and (y%100!=0)):\n",
    "    print(\"{} is a leap year\".format(y))  \n",
    "else:\n",
    "    print(\"{} is not a  leap year\".format(y))      "
   ]
  },
  {
   "cell_type": "markdown",
   "metadata": {},
   "source": [
    "Write a Python Program to Check Prime Number?\n"
   ]
  },
  {
   "cell_type": "code",
   "execution_count": 7,
   "metadata": {},
   "outputs": [
    {
     "name": "stdout",
     "output_type": "stream",
     "text": [
      "it's prime\n"
     ]
    }
   ],
   "source": [
    "n = 5\n",
    "count=0\n",
    "for i in range(1,5+1):\n",
    "    if(n%i==0):\n",
    "        count=count+1\n",
    "if(count>2):\n",
    "    print(\"it's composite\")\n",
    "\n",
    "else:\n",
    "    print(\"it's prime\")        "
   ]
  },
  {
   "cell_type": "markdown",
   "metadata": {},
   "source": [
    "Write a Python Program to Print all Prime Numbers in an Interval of 1-10000?"
   ]
  },
  {
   "cell_type": "code",
   "execution_count": null,
   "metadata": {},
   "outputs": [],
   "source": []
  }
 ],
 "metadata": {
  "kernelspec": {
   "display_name": "Python 3.8.5",
   "language": "python",
   "name": "python3"
  },
  "language_info": {
   "codemirror_mode": {
    "name": "ipython",
    "version": 3
   },
   "file_extension": ".py",
   "mimetype": "text/x-python",
   "name": "python",
   "nbconvert_exporter": "python",
   "pygments_lexer": "ipython3",
   "version": "3.8.5"
  },
  "orig_nbformat": 4,
  "vscode": {
   "interpreter": {
    "hash": "8891f3cfb547db503e78f25128202364d60f1c09259e140a1bd236c27b0b7a43"
   }
  }
 },
 "nbformat": 4,
 "nbformat_minor": 2
}
