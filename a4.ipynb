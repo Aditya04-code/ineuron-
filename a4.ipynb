{
 "cells": [
  {
   "cell_type": "markdown",
   "metadata": {},
   "source": [
    "Write a Python Program to Find the Factorial of a Number?\n"
   ]
  },
  {
   "cell_type": "code",
   "execution_count": 3,
   "metadata": {},
   "outputs": [
    {
     "name": "stdout",
     "output_type": "stream",
     "text": [
      "120\n"
     ]
    }
   ],
   "source": [
    "a = int(input())\n",
    "n=1\n",
    "for i in range(1,a+1):\n",
    "    n = n*i\n",
    "print(n)    \n"
   ]
  },
  {
   "cell_type": "markdown",
   "metadata": {},
   "source": [
    "Write a Python Program to Display the multiplication Table?\n"
   ]
  },
  {
   "cell_type": "code",
   "execution_count": 4,
   "metadata": {},
   "outputs": [
    {
     "name": "stdout",
     "output_type": "stream",
     "text": [
      "2 x 1 = 2\n",
      "2 x 2 = 4\n",
      "2 x 3 = 6\n",
      "2 x 4 = 8\n",
      "2 x 5 = 10\n",
      "2 x 6 = 12\n",
      "2 x 7 = 14\n",
      "2 x 8 = 16\n",
      "2 x 9 = 18\n",
      "2 x 10 = 20\n"
     ]
    }
   ],
   "source": [
    "a = int(input())\n",
    "for i in range(1,11):\n",
    "    print(a ,'x',i,'=',a*i)"
   ]
  },
  {
   "cell_type": "markdown",
   "metadata": {},
   "source": [
    "Write a Python Program to Print the Fibonacci sequence?\n"
   ]
  },
  {
   "cell_type": "code",
   "execution_count": 6,
   "metadata": {},
   "outputs": [
    {
     "name": "stdout",
     "output_type": "stream",
     "text": [
      "0\n",
      "1\n",
      "1\n"
     ]
    }
   ],
   "source": [
    "a = int(input())\n",
    "count=0\n",
    "n1,n2=0,1\n",
    "while(count<a):\n",
    "    print(n1)\n",
    "    nth = n1+n2\n",
    "    n1=n2\n",
    "    n2=nth\n",
    "    count+=1   "
   ]
  },
  {
   "cell_type": "markdown",
   "metadata": {},
   "source": [
    "Write a Python Program to Check Armstrong Number?\n"
   ]
  },
  {
   "cell_type": "code",
   "execution_count": 20,
   "metadata": {},
   "outputs": [
    {
     "name": "stdout",
     "output_type": "stream",
     "text": [
      "yes\n"
     ]
    }
   ],
   "source": [
    "import math as m\n",
    "n = 1634\n",
    "n1=n\n",
    "n2=n\n",
    "count =len(str(n))\n",
    "countans=0\n",
    "while(n1>0):\n",
    "    na=n1%10\n",
    "    \n",
    "    countans+=na **count\n",
    "    n1//=10\n",
    "if(countans==n2):\n",
    "    print(\"yes\")\n",
    "    \n",
    "else:\n",
    "    print(\"NO\")   \n",
    "        "
   ]
  },
  {
   "cell_type": "markdown",
   "metadata": {},
   "source": [
    "Write a Python Program to Find Armstrong Number in an Interval?\n"
   ]
  },
  {
   "cell_type": "code",
   "execution_count": 23,
   "metadata": {},
   "outputs": [
    {
     "name": "stdout",
     "output_type": "stream",
     "text": [
      "0 is armstrong True\n",
      "1 is armstrong True\n",
      "2 is armstrong False\n",
      "3 is armstrong False\n",
      "4 is armstrong False\n",
      "5 is armstrong False\n",
      "6 is armstrong False\n",
      "7 is armstrong False\n",
      "8 is armstrong False\n",
      "9 is armstrong False\n",
      "10 is armstrong False\n",
      "11 is armstrong False\n",
      "12 is armstrong False\n",
      "13 is armstrong False\n",
      "14 is armstrong False\n",
      "15 is armstrong False\n",
      "16 is armstrong False\n",
      "17 is armstrong False\n",
      "18 is armstrong False\n",
      "19 is armstrong False\n",
      "20 is armstrong False\n",
      "21 is armstrong False\n",
      "22 is armstrong False\n",
      "23 is armstrong False\n",
      "24 is armstrong False\n",
      "25 is armstrong False\n",
      "26 is armstrong False\n",
      "27 is armstrong False\n",
      "28 is armstrong False\n",
      "29 is armstrong False\n",
      "30 is armstrong False\n",
      "31 is armstrong False\n",
      "32 is armstrong False\n",
      "33 is armstrong False\n",
      "34 is armstrong False\n",
      "35 is armstrong False\n",
      "36 is armstrong False\n",
      "37 is armstrong False\n",
      "38 is armstrong False\n",
      "39 is armstrong False\n"
     ]
    }
   ],
   "source": [
    "def arms(n):\n",
    "    countans=0\n",
    "    n1=n\n",
    "    while(n1>0):\n",
    "        na=n1%10\n",
    "        countans+=na **count\n",
    "        n1//=10\n",
    "    if(countans==n):\n",
    "        return True\n",
    "    else:\n",
    "        return False\n",
    "for i in range(0,40):\n",
    "    print(i,\"is armstrong\",arms(i))        "
   ]
  },
  {
   "cell_type": "markdown",
   "metadata": {},
   "source": [
    "Write a Python Program to Find the Sum of Natural Numbers?"
   ]
  },
  {
   "cell_type": "code",
   "execution_count": 27,
   "metadata": {},
   "outputs": [
    {
     "name": "stdout",
     "output_type": "stream",
     "text": [
      "21\n"
     ]
    }
   ],
   "source": [
    "n = int(input(\"enter the number : \"))\n",
    "sum = 0\n",
    "for i in range(1,n+1):\n",
    "    sum += i\n",
    "print(sum)    "
   ]
  }
 ],
 "metadata": {
  "kernelspec": {
   "display_name": "Python 3.8.5",
   "language": "python",
   "name": "python3"
  },
  "language_info": {
   "codemirror_mode": {
    "name": "ipython",
    "version": 3
   },
   "file_extension": ".py",
   "mimetype": "text/x-python",
   "name": "python",
   "nbconvert_exporter": "python",
   "pygments_lexer": "ipython3",
   "version": "3.8.5"
  },
  "orig_nbformat": 4,
  "vscode": {
   "interpreter": {
    "hash": "8891f3cfb547db503e78f25128202364d60f1c09259e140a1bd236c27b0b7a43"
   }
  }
 },
 "nbformat": 4,
 "nbformat_minor": 2
}
