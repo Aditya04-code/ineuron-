{
 "cells": [
  {
   "cell_type": "markdown",
   "metadata": {},
   "source": [
    "1. Write a Python program to check if the given number is a Disarium Number?\n"
   ]
  },
  {
   "cell_type": "code",
   "execution_count": 1,
   "metadata": {},
   "outputs": [
    {
     "name": "stdout",
     "output_type": "stream",
     "text": [
      "it's disarium numbers : \n"
     ]
    }
   ],
   "source": [
    "import math\n",
    "def check(n):\n",
    "    count= len(str(n))\n",
    "    sum =0\n",
    "    x=n\n",
    "    while(x!=0):\n",
    "        r =x%10\n",
    "        sum =(int)(sum + math.pow(r,count))\n",
    "        count = count -1\n",
    "        x = x//10\n",
    "    if sum == n:\n",
    "        return 1\n",
    "    else:\n",
    "        return 0\n",
    "n =135\n",
    "if(check(n)==1):\n",
    "    print(\"it's disarium numbers : \")  \n",
    "else:\n",
    "    print(\"it's not  disarium numbers :\")                  \n"
   ]
  },
  {
   "cell_type": "markdown",
   "metadata": {},
   "source": [
    "2. Write a Python program to print all disarium numbers between 1 to 100?\n"
   ]
  },
  {
   "cell_type": "code",
   "execution_count": 10,
   "metadata": {},
   "outputs": [
    {
     "name": "stdout",
     "output_type": "stream",
     "text": [
      "1 is a disarium \n",
      "2 is a disarium \n",
      "3 is a disarium \n",
      "4 is a disarium \n",
      "5 is a disarium \n",
      "6 is a disarium \n",
      "7 is a disarium \n",
      "8 is a disarium \n",
      "9 is a disarium \n",
      "10 is not a  disarium \n",
      "11 is not a  disarium \n",
      "12 is not a  disarium \n",
      "13 is not a  disarium \n",
      "14 is not a  disarium \n",
      "15 is not a  disarium \n",
      "16 is not a  disarium \n",
      "17 is not a  disarium \n",
      "18 is not a  disarium \n",
      "19 is not a  disarium \n",
      "20 is not a  disarium \n",
      "21 is not a  disarium \n",
      "22 is not a  disarium \n",
      "23 is not a  disarium \n",
      "24 is not a  disarium \n",
      "25 is not a  disarium \n",
      "26 is not a  disarium \n",
      "27 is not a  disarium \n",
      "28 is not a  disarium \n",
      "29 is not a  disarium \n",
      "30 is not a  disarium \n",
      "31 is not a  disarium \n",
      "32 is not a  disarium \n",
      "33 is not a  disarium \n",
      "34 is not a  disarium \n",
      "35 is not a  disarium \n",
      "36 is not a  disarium \n",
      "37 is not a  disarium \n",
      "38 is not a  disarium \n",
      "39 is not a  disarium \n",
      "40 is not a  disarium \n",
      "41 is not a  disarium \n",
      "42 is not a  disarium \n",
      "43 is not a  disarium \n",
      "44 is not a  disarium \n",
      "45 is not a  disarium \n",
      "46 is not a  disarium \n",
      "47 is not a  disarium \n",
      "48 is not a  disarium \n",
      "49 is not a  disarium \n",
      "50 is not a  disarium \n",
      "51 is not a  disarium \n",
      "52 is not a  disarium \n",
      "53 is not a  disarium \n",
      "54 is not a  disarium \n",
      "55 is not a  disarium \n",
      "56 is not a  disarium \n",
      "57 is not a  disarium \n",
      "58 is not a  disarium \n",
      "59 is not a  disarium \n",
      "60 is not a  disarium \n",
      "61 is not a  disarium \n",
      "62 is not a  disarium \n",
      "63 is not a  disarium \n",
      "64 is not a  disarium \n",
      "65 is not a  disarium \n",
      "66 is not a  disarium \n",
      "67 is not a  disarium \n",
      "68 is not a  disarium \n",
      "69 is not a  disarium \n",
      "70 is not a  disarium \n",
      "71 is not a  disarium \n",
      "72 is not a  disarium \n",
      "73 is not a  disarium \n",
      "74 is not a  disarium \n",
      "75 is not a  disarium \n",
      "76 is not a  disarium \n",
      "77 is not a  disarium \n",
      "78 is not a  disarium \n",
      "79 is not a  disarium \n",
      "80 is not a  disarium \n",
      "81 is not a  disarium \n",
      "82 is not a  disarium \n",
      "83 is not a  disarium \n",
      "84 is not a  disarium \n",
      "85 is not a  disarium \n",
      "86 is not a  disarium \n",
      "87 is not a  disarium \n",
      "88 is not a  disarium \n",
      "89 is a disarium \n",
      "90 is not a  disarium \n",
      "91 is not a  disarium \n",
      "92 is not a  disarium \n",
      "93 is not a  disarium \n",
      "94 is not a  disarium \n",
      "95 is not a  disarium \n",
      "96 is not a  disarium \n",
      "97 is not a  disarium \n",
      "98 is not a  disarium \n",
      "99 is not a  disarium \n",
      "100 is not a  disarium \n"
     ]
    }
   ],
   "source": [
    "# for n in range(1, 101):\n",
    "import math\n",
    "def check(n):\n",
    "    count = len(str(n))\n",
    "    sum = 0\n",
    "    x = n\n",
    "    while(x != 0):\n",
    "        r = x % 10\n",
    "        sum = (int)(sum + math.pow(r, count))\n",
    "        count = count - 1\n",
    "        x = x//10\n",
    "    if sum == n:\n",
    "        return (\"{} is a disarium \".format(n))\n",
    "    else:\n",
    "        return (\"{} is not a  disarium \".format(n))   \n",
    "for i in range(1,101):  \n",
    "    print(check(i))      \n",
    "\n",
    "\n",
    "\n",
    "\n",
    "\n"
   ]
  },
  {
   "cell_type": "markdown",
   "metadata": {},
   "source": [
    "3. Write a Python program to check if the given number is Happy Number?\n"
   ]
  },
  {
   "cell_type": "code",
   "execution_count": 1,
   "metadata": {},
   "outputs": [
    {
     "data": {
      "text/plain": [
       "False"
      ]
     },
     "execution_count": 1,
     "metadata": {},
     "output_type": "execute_result"
    }
   ],
   "source": [
    "def Happy(n):\n",
    "    if n==1 or n==7:\n",
    "        return True\n",
    "    sum,x=n,n\n",
    "    while(sum>9):\n",
    "        sum =0\n",
    "        while x>0:\n",
    "            d = x%10\n",
    "            sum =sum + d*d\n",
    "            x = int(x/10)\n",
    "        if sum ==1:\n",
    "            return True\n",
    "    if sum ==7:\n",
    "            return True\n",
    "    return False\n",
    "Happy(13)    "
   ]
  },
  {
   "cell_type": "markdown",
   "metadata": {},
   "source": [
    "4. Write a Python program to print all happy numbers between 1 and 100?\n"
   ]
  },
  {
   "cell_type": "code",
   "execution_count": 4,
   "metadata": {},
   "outputs": [
    {
     "name": "stdout",
     "output_type": "stream",
     "text": [
      "1 Is not a Happy number \n",
      "2 Is not a Happy number \n",
      "3 Is not a Happy number \n",
      "4 Is not a Happy number \n",
      "5 Is not a Happy number \n",
      "6 Is not a Happy number \n",
      "7 Is a Happy number \n",
      "8 Is not a Happy number \n",
      "9 Is a Happy number \n",
      "10 Is not a Happy number \n",
      "11 Is not a Happy number \n",
      "12 Is not a Happy number \n",
      "13 Is not a Happy number \n",
      "14 Is not a Happy number \n",
      "15 Is not a Happy number \n",
      "16 Is not a Happy number \n",
      "17 Is not a Happy number \n",
      "18 Is not a Happy number \n",
      "19 Is not a Happy number \n",
      "20 Is not a Happy number \n",
      "21 Is not a Happy number \n",
      "22 Is not a Happy number \n",
      "23 Is not a Happy number \n",
      "24 Is not a Happy number \n",
      "25 Is not a Happy number \n",
      "26 Is not a Happy number \n",
      "27 Is not a Happy number \n",
      "28 Is not a Happy number \n",
      "29 Is not a Happy number \n",
      "30 Is not a Happy number \n",
      "31 Is not a Happy number \n",
      "32 Is not a Happy number \n",
      "33 Is not a Happy number \n",
      "34 Is not a Happy number \n",
      "35 Is not a Happy number \n",
      "36 Is not a Happy number \n",
      "37 Is not a Happy number \n",
      "38 Is not a Happy number \n",
      "39 Is not a Happy number \n",
      "40 Is not a Happy number \n",
      "41 Is not a Happy number \n",
      "42 Is not a Happy number \n",
      "43 Is not a Happy number \n",
      "44 Is not a Happy number \n",
      "45 Is not a Happy number \n",
      "46 Is not a Happy number \n",
      "47 Is not a Happy number \n",
      "48 Is not a Happy number \n",
      "49 Is not a Happy number \n",
      "50 Is not a Happy number \n",
      "51 Is not a Happy number \n",
      "52 Is not a Happy number \n",
      "53 Is not a Happy number \n",
      "54 Is not a Happy number \n",
      "55 Is not a Happy number \n",
      "56 Is not a Happy number \n",
      "57 Is not a Happy number \n",
      "58 Is not a Happy number \n",
      "59 Is not a Happy number \n",
      "60 Is not a Happy number \n",
      "61 Is not a Happy number \n",
      "62 Is not a Happy number \n",
      "63 Is not a Happy number \n",
      "64 Is not a Happy number \n",
      "65 Is not a Happy number \n",
      "66 Is not a Happy number \n",
      "67 Is not a Happy number \n",
      "68 Is not a Happy number \n",
      "69 Is not a Happy number \n",
      "70 Is not a Happy number \n",
      "71 Is not a Happy number \n",
      "72 Is not a Happy number \n",
      "73 Is not a Happy number \n",
      "74 Is not a Happy number \n",
      "75 Is not a Happy number \n",
      "76 Is not a Happy number \n",
      "77 Is not a Happy number \n",
      "78 Is not a Happy number \n",
      "79 Is not a Happy number \n",
      "80 Is not a Happy number \n",
      "81 Is not a Happy number \n",
      "82 Is not a Happy number \n",
      "83 Is not a Happy number \n",
      "84 Is not a Happy number \n",
      "85 Is not a Happy number \n",
      "86 Is not a Happy number \n",
      "87 Is not a Happy number \n",
      "88 Is not a Happy number \n",
      "89 Is not a Happy number \n",
      "90 Is not a Happy number \n",
      "91 Is not a Happy number \n",
      "92 Is not a Happy number \n",
      "93 Is not a Happy number \n",
      "94 Is not a Happy number \n",
      "95 Is not a Happy number \n",
      "96 Is not a Happy number \n",
      "97 Is not a Happy number \n",
      "98 Is not a Happy number \n",
      "99 Is not a Happy number \n",
      "100 Is not a Happy number \n"
     ]
    }
   ],
   "source": [
    "def Happyinrange(n):\n",
    "    if(n==7 or n==9):\n",
    "        return True\n",
    "    sum,x=n,n\n",
    "    while(sum>9):\n",
    "        sum =0\n",
    "        while(x>0):\n",
    "            d=x%10\n",
    "            sum = sum+ d*d\n",
    "            x=int(x/10)\n",
    "        if sum == 1:\n",
    "            return True\n",
    "    if sum == 7 :\n",
    "        return True\n",
    "    return False\n",
    "for i in range(1,101):\n",
    "    if(Happyinrange(i)==True):\n",
    "        print(i,\"Is a Happy number \")\n",
    "    else:\n",
    "        print(i,\"Is not a Happy number \")\n",
    "\n"
   ]
  },
  {
   "cell_type": "markdown",
   "metadata": {},
   "source": [
    "5. Write a Python program to determine whether the given number is a Harshad Number?\n"
   ]
  },
  {
   "cell_type": "code",
   "execution_count": 11,
   "metadata": {},
   "outputs": [
    {
     "data": {
      "text/plain": [
       "True"
      ]
     },
     "execution_count": 11,
     "metadata": {},
     "output_type": "execute_result"
    }
   ],
   "source": [
    "def Harshad(n):\n",
    "    x=n\n",
    "    sum =0\n",
    "    while(x > 0):\n",
    "        a = x%10\n",
    "        sum = sum + a\n",
    "        x=int(x/10)\n",
    "    if(n%sum ==0):\n",
    "        return True\n",
    "    return False\n",
    "Harshad(171)"
   ]
  },
  {
   "cell_type": "markdown",
   "metadata": {},
   "source": [
    "6. Write a Python program to print all pronic numbers between 1 and 100?"
   ]
  },
  {
   "cell_type": "code",
   "execution_count": 12,
   "metadata": {},
   "outputs": [
    {
     "name": "stdout",
     "output_type": "stream",
     "text": [
      "0 2 6 12 20 30 42 56 72 90 "
     ]
    }
   ],
   "source": [
    "import math\n",
    "def checkPronic (x) :\n",
    "    i = 0\n",
    "    while ( i <= (int)(math.sqrt(x)) ) : \n",
    "        if ( x == i * (i + 1)) :\n",
    "            return True\n",
    "        i = i + 1\n",
    "    return False \n",
    "i = 0\n",
    "while (i <= 100 ) :\n",
    "    if checkPronic(i) :\n",
    "        print(i,end=\" \")\n",
    "    i = i + 1\n",
    " "
   ]
  }
 ],
 "metadata": {
  "kernelspec": {
   "display_name": "Python 3.8.5",
   "language": "python",
   "name": "python3"
  },
  "language_info": {
   "codemirror_mode": {
    "name": "ipython",
    "version": 3
   },
   "file_extension": ".py",
   "mimetype": "text/x-python",
   "name": "python",
   "nbconvert_exporter": "python",
   "pygments_lexer": "ipython3",
   "version": "3.8.5"
  },
  "orig_nbformat": 4,
  "vscode": {
   "interpreter": {
    "hash": "8891f3cfb547db503e78f25128202364d60f1c09259e140a1bd236c27b0b7a43"
   }
  }
 },
 "nbformat": 4,
 "nbformat_minor": 2
}
